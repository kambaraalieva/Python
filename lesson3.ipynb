{
 "cells": [
  {
   "cell_type": "code",
   "id": "657e7f22",
   "metadata": {
    "ExecuteTime": {
     "end_time": "2025-10-27T12:39:29.472065Z",
     "start_time": "2025-10-27T12:39:29.464943Z"
    }
   },
   "source": "print(2+4)",
   "outputs": [
    {
     "name": "stdout",
     "output_type": "stream",
     "text": [
      "6\n"
     ]
    }
   ],
   "execution_count": 2
  }
 ],
 "metadata": {
  "kernelspec": {
   "display_name": "Python 3",
   "language": "python",
   "name": "python3"
  },
  "language_info": {
   "name": "python",
   "version": "3.13.7"
  }
 },
 "nbformat": 4,
 "nbformat_minor": 5
}
