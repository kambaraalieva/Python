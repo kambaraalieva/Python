{
 "cells": [
  {
   "cell_type": "code",
   "execution_count": null,
   "id": "657e7f22",
   "metadata": {},
   "outputs": [],
   "source": [
    "2+4"
   ]
  },
  {
   "cell_type": "code",
   "execution_count": null,
   "id": "45e02efb",
   "metadata": {},
   "outputs": [],
   "source": [
    "yuih"
   ]
  },
  {
   "cell_type": "code",
   "execution_count": null,
   "id": "96c16a5c",
   "metadata": {},
   "outputs": [],
   "source": [
    "y79ityk"
   ]
  }
 ],
 "metadata": {
  "kernelspec": {
   "display_name": "Python 3",
   "language": "python",
   "name": "python3"
  },
  "language_info": {
   "name": "python",
   "version": "3.13.7"
  }
 },
 "nbformat": 4,
 "nbformat_minor": 5
}
