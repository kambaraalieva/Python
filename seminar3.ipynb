{
 "cells": [
  {
   "cell_type": "code",
   "id": "initial_id",
   "metadata": {
    "collapsed": true,
    "ExecuteTime": {
     "end_time": "2025-10-31T13:17:40.711284Z",
     "start_time": "2025-10-31T13:17:32.949482Z"
    }
   },
   "source": [
    "name = input(print(\"Enter your name: \"))\n",
    "name1 = name.capitalize()\n",
    "\n",
    "text = \"\"\" Имя этого героя \"name\". Поход в театр для него целый ритуал. Входя в фойе, \"name\" демонстративно снимает шляпу, поправляет галстук и вешает ольто на руку. Он непременно думает, что все, кому он знаком говорят про себя: \"Ах, сегодня \"name\" неотразим!\" После чего \"name\" занимает лучшее место бенуара и с важным видом достает очки.\"\"\"\n",
    "\n",
    "text1 = text.replace('\"name\"', name1)\n",
    "print(text1)"
   ],
   "outputs": [
    {
     "name": "stdout",
     "output_type": "stream",
     "text": [
      "Enter your name: \n",
      " Имя этого героя Sam. Поход в театр для него целый ритуал. Входя в фойе, Sam демонстративно снимает шляпу, поправляет галстук и вешает ольто на руку. Он непременно думает, что все, кому он знаком говорят про себя: \"Ах, сегодня Sam неотразим!\" После чего Sam занимает лучшее место бенуара и с важным видом достает очки.\n"
     ]
    }
   ],
   "execution_count": 4
  },
  {
   "metadata": {
    "ExecuteTime": {
     "end_time": "2025-10-31T13:37:31.648918Z",
     "start_time": "2025-10-31T13:37:31.636136Z"
    }
   },
   "cell_type": "code",
   "source": [
    "str_ = '84hj#55hjl'\n",
    "index = str_.index('#')\n",
    "result = str_[:index + 1] + \"abc\" +str_[index + 1:]\n",
    "print(result)\n"
   ],
   "id": "7f930e01944eeb22",
   "outputs": [
    {
     "name": "stdout",
     "output_type": "stream",
     "text": [
      "84hj#abc55hjl\n"
     ]
    }
   ],
   "execution_count": 13
  },
  {
   "metadata": {
    "ExecuteTime": {
     "end_time": "2025-10-31T13:38:43.142063Z",
     "start_time": "2025-10-31T13:38:43.099284Z"
    }
   },
   "cell_type": "code",
   "source": [
    "str_ = '84hj#55hjl'\n",
    "str1 = str_[0:5]\n",
    "str2 = str_[5:]\n",
    "str1 + 'abc' + str2"
   ],
   "id": "7e03e983b35f37fe",
   "outputs": [
    {
     "data": {
      "text/plain": [
       "'84hj#abc55hjl'"
      ]
     },
     "execution_count": 14,
     "metadata": {},
     "output_type": "execute_result"
    }
   ],
   "execution_count": 14
  },
  {
   "metadata": {
    "ExecuteTime": {
     "end_time": "2025-10-31T14:11:37.570704Z",
     "start_time": "2025-10-31T14:11:26.168865Z"
    }
   },
   "cell_type": "code",
   "source": [
    "tel = input(print(\"Enter your telephone number: \"))\n",
    "first_n3 = tel[0:3]\n",
    "second_n3 = tel[3:6]\n",
    "third_n3 = tel[6:9]\n",
    "length = len(tel)\n",
    "if(length > 9):\n",
    "    print('The number is incorrect')\n",
    "else:\n",
    "    print(f'+996 {first_n3} {second_n3}-{third_n3}')\n"
   ],
   "id": "57d6e822c2bc750b",
   "outputs": [
    {
     "name": "stdout",
     "output_type": "stream",
     "text": [
      "Enter your telephone number: \n",
      "+996 551 424-513\n"
     ]
    }
   ],
   "execution_count": 35
  },
  {
   "metadata": {
    "ExecuteTime": {
     "end_time": "2025-10-31T14:06:40.219925Z",
     "start_time": "2025-10-31T14:06:35.759381Z"
    }
   },
   "cell_type": "code",
   "source": [
    "str_ = input('Write something: ')\n",
    "length = len(str_)\n",
    "if (length > 5):\n",
    "    print(\"The text is too long\")\n",
    "else:\n",
    "    print(str_)"
   ],
   "id": "5c0ce0518671855a",
   "outputs": [
    {
     "name": "stdout",
     "output_type": "stream",
     "text": [
      "567\n"
     ]
    }
   ],
   "execution_count": 33
  },
  {
   "metadata": {},
   "cell_type": "code",
   "outputs": [],
   "execution_count": null,
   "source": [
    "str_ = input('Write something: ')\n",
    "length = len(str_)\n",
    "if (length > 5):\n",
    "    print(\"The text is too long\")\n",
    "if(length < 5):\n",
    "    str_ = input('Write something: ')\n",
    "else:\n",
    "    print(str_)"
   ],
   "id": "ac4354d52d91942c"
  },
  {
   "metadata": {
    "ExecuteTime": {
     "end_time": "2025-10-31T14:35:35.489107Z",
     "start_time": "2025-10-31T14:35:31.080088Z"
    }
   },
   "cell_type": "code",
   "source": [
    "password = input(\"Enter password: \")\n",
    "\n",
    "if '#' in password or '@' in password or '%' in password:\n",
    "    print(password)\n",
    "else:\n",
    "    print(\"The password is not reliable\")"
   ],
   "id": "79d650491d5d05f4",
   "outputs": [
    {
     "name": "stdout",
     "output_type": "stream",
     "text": [
      "%jhbkjm\n"
     ]
    }
   ],
   "execution_count": 42
  },
  {
   "metadata": {
    "ExecuteTime": {
     "end_time": "2025-10-31T14:56:17.751096Z",
     "start_time": "2025-10-31T14:56:06.347449Z"
    }
   },
   "cell_type": "code",
   "source": [
    "password = input(\"Enter password: \")\n",
    "\n",
    "if '#' in password or '@' in password or '%' in password:\n",
    "    print(password)\n",
    "elif '#' not in password or '@' not in password or '%' not in password:\n",
    "    new_password = input(('Invalid password. Please re-enter! '))\n",
    "    if '#' in new_password or '@' in new_password or '%' in new_password:\n",
    "        print(f'Password is {new_password} saved!')\n",
    "    else:\n",
    "        print(\"You have exhausted the number of attempts!\")"
   ],
   "id": "380cb3c2db3dfe5",
   "outputs": [
    {
     "name": "stdout",
     "output_type": "stream",
     "text": [
      "@soijmlck#fs\n"
     ]
    }
   ],
   "execution_count": 55
  },
  {
   "metadata": {
    "ExecuteTime": {
     "end_time": "2025-10-31T15:04:33.543499Z",
     "start_time": "2025-10-31T15:04:29.550191Z"
    }
   },
   "cell_type": "code",
   "source": [
    "name_list = 'айданургулсайкалаймээржылдызбакытайчолпонмадинажаныбекбекжолдостукэлиябатыржанаталмазбекчингизталанталтынбекмаратсаматтайырбеказаматбекмуратасанбек'\n",
    "name = input(\"Введите свое имя: \")\n",
    "name = name.lower()\n",
    "\n",
    "if name in name_list:\n",
    "    name = name.capitalize()\n",
    "    print(f'Поздравляю, {name}, вам положена повышенная стипендия.')\n",
    "else:\n",
    "    name = name.capitalize()\n",
    "    print(f'Увы {name}, Вашего имени в списке нет\"') #Task22\n"
   ],
   "id": "5a7f7073bb0d754",
   "outputs": [
    {
     "name": "stdout",
     "output_type": "stream",
     "text": [
      "Поздравляю, Айдан, вам положена повышенная стипендия.\n"
     ]
    }
   ],
   "execution_count": 65
  }
 ],
 "metadata": {
  "kernelspec": {
   "display_name": "Python 3",
   "language": "python",
   "name": "python3"
  },
  "language_info": {
   "codemirror_mode": {
    "name": "ipython",
    "version": 2
   },
   "file_extension": ".py",
   "mimetype": "text/x-python",
   "name": "python",
   "nbconvert_exporter": "python",
   "pygments_lexer": "ipython2",
   "version": "2.7.6"
  }
 },
 "nbformat": 4,
 "nbformat_minor": 5
}
